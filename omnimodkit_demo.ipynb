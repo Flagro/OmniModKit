{
 "cells": [
  {
   "cell_type": "code",
   "execution_count": null,
   "metadata": {},
   "outputs": [],
   "source": [
    "from omnimodkit import ModelsToolkit"
   ]
  },
  {
   "cell_type": "code",
   "execution_count": null,
   "metadata": {},
   "outputs": [],
   "source": [
    "from dotenv import load_dotenv\n",
    "\n",
    "load_dotenv()"
   ]
  },
  {
   "cell_type": "code",
   "execution_count": null,
   "metadata": {},
   "outputs": [],
   "source": [
    "# Initialize the model toolkit\n",
    "modkit = ModelsToolkit()"
   ]
  },
  {
   "cell_type": "code",
   "execution_count": null,
   "metadata": {},
   "outputs": [],
   "source": [
    "# Run the model synchronously\n",
    "modkit.text_model.run(\n",
    "    user_input=\"What is the capital of France?\",\n",
    ")"
   ]
  },
  {
   "cell_type": "code",
   "execution_count": null,
   "metadata": {},
   "outputs": [],
   "source": [
    "# Stream responses from the model\n",
    "for response in modkit.text_model.stream(\n",
    "    user_input=\"What is the capital of France?\",\n",
    "):\n",
    "    print(response, end=\"|\", flush=True)"
   ]
  },
  {
   "cell_type": "code",
   "execution_count": null,
   "metadata": {},
   "outputs": [],
   "source": [
    "# Generate images\n",
    "modkit.image_generation_model.run(\n",
    "    user_input=\"Draw a cat\",\n",
    ")"
   ]
  },
  {
   "cell_type": "code",
   "execution_count": null,
   "metadata": {},
   "outputs": [],
   "source": [
    "import io\n",
    "import requests\n",
    "\n",
    "url = \"https://cdn.openai.com/API/examples/data/ZyntriQix.wav\"\n",
    "audio_bytes = io.BytesIO(requests.get(url, timeout=10).content)\n",
    "audio_bytes.name = \"audio.wav\"\n",
    "modkit.audio_recognition_model.run(\n",
    "    in_memory_audio_stream=audio_bytes,\n",
    ")"
   ]
  },
  {
   "cell_type": "code",
   "execution_count": null,
   "metadata": {},
   "outputs": [],
   "source": [
    "import io\n",
    "import requests\n",
    "\n",
    "url = \"https://raw.githubusercontent.com/Flagro/treefeeder/main/logo.png\"\n",
    "image_bytes = io.BytesIO(requests.get(url, timeout=10).content)\n",
    "image_bytes.name = \"image.png\"\n",
    "modkit.vision_model.run(\n",
    "    in_memory_image_stream=image_bytes,\n",
    ")"
   ]
  },
  {
   "cell_type": "code",
   "execution_count": null,
   "metadata": {},
   "outputs": [],
   "source": []
  }
 ],
 "metadata": {
  "kernelspec": {
   "display_name": ".venv",
   "language": "python",
   "name": "python3"
  },
  "language_info": {
   "codemirror_mode": {
    "name": "ipython",
    "version": 3
   },
   "file_extension": ".py",
   "mimetype": "text/x-python",
   "name": "python",
   "nbconvert_exporter": "python",
   "pygments_lexer": "ipython3",
   "version": "3.11.11"
  }
 },
 "nbformat": 4,
 "nbformat_minor": 2
}
